{
 "cells": [
  {
   "cell_type": "markdown",
   "metadata": {},
   "source": [
    "# HSE 2021: Mathematical Methods for Data Analysis\n",
    "\n",
    "## Homework 1"
   ]
  },
  {
   "cell_type": "markdown",
   "metadata": {},
   "source": [
    "### Attention!\n",
    "* For tasks where <ins>text answer</ins> is required **Russian language** is **allowed**.\n",
    "* If a task asks you to describe something (make coclusions) then **text answer** is **mandatory** and **is** part of the task\n",
    "* **Do not** upload the dataset (titanic.csv) to the grading system (we already have it)\n",
    "* We **only** accept **ipynb** notebooks. If you use Google Colab then you'll have to download the notebook before passing the homework\n",
    "* **Do not** use python loops instead of NumPy vector operations over NumPy vectors - it significantly decreases performance (see why https://blog.paperspace.com/numpy-optimization-vectorization-and-broadcasting/), will be punished with -0.25 for **every** task. \n",
    "Loops are only allowed in part 1 (Tasks 1 - 4). \n",
    "* Some tasks contain tests. They only test you solution on a simple example, thus, passing the test does **not** guarantee you the full grade for the task. "
   ]
  },
  {
   "cell_type": "code",
   "execution_count": 182,
   "metadata": {},
   "outputs": [],
   "source": [
    "%matplotlib inline\n",
    "import numpy as np\n",
    "import pandas as pd\n",
    "import matplotlib.pyplot as plt\n",
    "import seaborn as sns\n",
    "import sympy as sp"
   ]
  },
  {
   "cell_type": "markdown",
   "metadata": {},
   "source": [
    "# 1. Python (2 points)"
   ]
  },
  {
   "cell_type": "markdown",
   "metadata": {},
   "source": [
    "**Task 1** (0.5 points)<br/> \n",
    "Enter numbers `a`,  `d` и `N`. Find sum of the first `N` members of arithmetic progression with the first member `a` and difference `d`, without using formula for the sum."
   ]
  },
  {
   "cell_type": "code",
   "execution_count": 352,
   "metadata": {},
   "outputs": [],
   "source": [
    "def find_sum(a,d,N):\n",
    "    ## Your code here\n",
    "    if d <= 0 or N <= 0 :\n",
    "        return 0\n",
    "    return sum(list(range(a, d*(N-1) + a + 1,d)))\n"
   ]
  },
  {
   "cell_type": "markdown",
   "metadata": {},
   "source": [
    "Check yourself"
   ]
  },
  {
   "cell_type": "code",
   "execution_count": 353,
   "metadata": {},
   "outputs": [],
   "source": [
    "a = 2\n",
    "d = 3\n",
    "N = 15\n",
    "assert find_sum(a,d,N) == 345, 'Wrong answer'"
   ]
  },
  {
   "cell_type": "markdown",
   "metadata": {},
   "source": [
    "---\n",
    "**Task 2** (0.5 points) <br/> \n",
    "Enter an integer number `N`. Check if it is a prime number."
   ]
  },
  {
   "cell_type": "code",
   "execution_count": 354,
   "metadata": {},
   "outputs": [],
   "source": [
    "def check_prime(N):\n",
    "    ## Your code here\n",
    "    \n",
    "    # variant 1\n",
    "    return sp.isprime(N)\n",
    "    \n",
    "    # variant 2\n",
    "    #i = 2\n",
    "    #while i <= N ** 0.5:\n",
    "    #    if N % i == 0:\n",
    "    #        return False\n",
    "    #    i += 1\n",
    "    #return N > 1\n",
    "    \n",
    "   "
   ]
  },
  {
   "cell_type": "markdown",
   "metadata": {},
   "source": [
    "Check yourself"
   ]
  },
  {
   "cell_type": "code",
   "execution_count": 355,
   "metadata": {},
   "outputs": [],
   "source": [
    "inp = [3, 8, 13, 111, 113, 237, 307, 479, 481]\n",
    "answer = [True, False, True, False, True, False, True, True, False]\n",
    "\n",
    "for N, ans in zip(inp, answer):\n",
    "    assert check_prime(N) == ans, f'Wrong answer for input {N}, {ans} is expected'"
   ]
  },
  {
   "cell_type": "markdown",
   "metadata": {},
   "source": [
    "---\n",
    "**Task 3** (0.5 points) <br/> \n",
    "Find the first `N` prime numbers (you may use the function from the previous task)."
   ]
  },
  {
   "cell_type": "code",
   "execution_count": 356,
   "metadata": {},
   "outputs": [],
   "source": [
    "def find_primes(N):\n",
    "    ## Your code here\n",
    "    if N < 2:\n",
    "        return []\n",
    "    primes = [2]\n",
    "    i = 3;\n",
    "    while len(primes) < N:\n",
    "        if check_prime(i):\n",
    "            primes.append(i)\n",
    "        i += 2\n",
    "    return primes        "
   ]
  },
  {
   "cell_type": "markdown",
   "metadata": {},
   "source": [
    "Check yourself"
   ]
  },
  {
   "cell_type": "code",
   "execution_count": 357,
   "metadata": {},
   "outputs": [],
   "source": [
    "assert find_primes(5) == [2, 3, 5, 7, 11], 'Wrong answer'"
   ]
  },
  {
   "cell_type": "markdown",
   "metadata": {},
   "source": [
    "---\n",
    "**Task 4** (0.5 points) <br/> \n",
    "There are numbers: `a`, `b`, `c`. Without using functions `min`, `max` or any other functions, find the maximum number."
   ]
  },
  {
   "cell_type": "code",
   "execution_count": 358,
   "metadata": {},
   "outputs": [],
   "source": [
    "def find_max(a, b, c):\n",
    "    ## Your code here\n",
    "    if a >= b and a >= c:\n",
    "        return a\n",
    "    elif b >= a and b >= c:\n",
    "        return b\n",
    "    else:\n",
    "        return c"
   ]
  },
  {
   "cell_type": "markdown",
   "metadata": {},
   "source": [
    "Check yourself"
   ]
  },
  {
   "cell_type": "code",
   "execution_count": 359,
   "metadata": {},
   "outputs": [
    {
     "name": "stdout",
     "output_type": "stream",
     "text": [
      "Checking on (-96, 59, 70)\n",
      "Checking on (90, -25, 32)\n",
      "Checking on (64, 0, -54)\n",
      "Checking on (-3, -41, -17)\n",
      "Checking on (-44, 82, 40)\n",
      "Checking on (-7, -30, -52)\n",
      "Checking on (81, 23, -10)\n",
      "Checking on (6, -37, 85)\n",
      "Checking on (15, 23, -36)\n",
      "Checking on (6, -44, 4)\n"
     ]
    }
   ],
   "source": [
    "from random import randint\n",
    "for i in range(10):    \n",
    "    a = randint(-100, 100)\n",
    "    b = randint(-100, 100)\n",
    "    c = randint(-100, 100)\n",
    "    answer = np.max([a, b, c])  # You cannot use `np.max` in the solution ;)\n",
    "    print(f'Checking on {a, b, c}')\n",
    "    assert find_max(a, b, c) == answer, f'Wrong maximum, {answer} is expected'"
   ]
  },
  {
   "cell_type": "markdown",
   "metadata": {},
   "source": [
    "# 2. Numpy (4 points)\n",
    "### **!Do not use loops in the tasks below, see disclamer at the top of the notebook**"
   ]
  },
  {
   "cell_type": "markdown",
   "metadata": {},
   "source": [
    "**Task 1** (0.5 points) <br/>\n",
    "Create a random array (`np.random.rand()`) with length of 20 and with sum of its elements equals to 3."
   ]
  },
  {
   "cell_type": "code",
   "execution_count": 360,
   "metadata": {
    "scrolled": false
   },
   "outputs": [],
   "source": [
    "my_array = np.random.dirichlet(np.ones(20),size=1)[0] * 3"
   ]
  },
  {
   "cell_type": "markdown",
   "metadata": {},
   "source": [
    "Check yourself"
   ]
  },
  {
   "cell_type": "code",
   "execution_count": 361,
   "metadata": {},
   "outputs": [],
   "source": [
    "assert len(my_array) == 20\n",
    "assert np.allclose(np.sum(my_array), 3)"
   ]
  },
  {
   "cell_type": "markdown",
   "metadata": {},
   "source": [
    "---\n",
    "**Task 2** (0.5 points) <br/>\n",
    "Create two random arrays $a$ and $b$ with the same length. \n",
    "\n",
    "Calculate the following distances between the arrays **without using special functions. You may only use basic numpy operations (first level functions like `np.dot` are ok, higher level functions like `np.linalg.*` are prohibited).**:\n",
    "\n",
    "* Euclidean Distance\n",
    "$$ d(a, b) = \\sqrt{\\sum_i (a_i - b_i)^2} $$\n",
    "* Manhattan Distance\n",
    "$$ d(a, b) = \\sum_i |a_i - b_i| $$\n",
    "* Cosine Distance\n",
    "$$ d(a, b) = 1 - \\frac{a^\\top b}{||a||_2\\cdot||b||_2}, \\,\\, \\text{where}\\,\\, ||a||_2 = \\sqrt{\\sum_i a_i^2} $$"
   ]
  },
  {
   "cell_type": "code",
   "execution_count": 362,
   "metadata": {},
   "outputs": [],
   "source": [
    "def cal_euclidean(a, b):  \n",
    "    ## Your code here\n",
    "    return np.sum((a - b)**2)**0.5\n",
    "\n",
    "\n",
    "def cal_manhattan(a, b):    \n",
    "    ## Your code here\n",
    "    return np.sum(abs(a-b))\n",
    "    \n",
    "def cal_cosine(a, b):    \n",
    "    ## Your code here\n",
    "    return 1 - np.sum((np.dot(a.transpose(), b)) / ((np.sum(a**2)**0.5) * np.sum(b**2)**0.5))"
   ]
  },
  {
   "cell_type": "markdown",
   "metadata": {},
   "source": [
    "Check yourself"
   ]
  },
  {
   "cell_type": "code",
   "execution_count": 363,
   "metadata": {},
   "outputs": [],
   "source": [
    "a = np.ones(10)*0.1\n",
    "b = np.ones(10)\n",
    "\n",
    "assert np.allclose(cal_euclidean(a, b), 2.846049)\n",
    "assert np.allclose(cal_manhattan(a, b), 9)\n",
    "assert np.allclose(cal_cosine(a, b), 0)"
   ]
  },
  {
   "cell_type": "markdown",
   "metadata": {},
   "source": [
    "---\n",
    "**Task 3** (0.5 points) <br/>\n",
    "Create a function `custom_scaler`, which takes as input an array with integer values and transforms an array, so that:\n",
    "* Maximum element(s) value is 2 (it **doesn't** mean `a[max_index] = 2`)\n",
    "* Minimum element(s) value is -2 (it **doesn't** mean `a[min_index] = -2`)\n",
    "* Other values are in the interval [-2, 2] (using **arithmetic** transformations)"
   ]
  },
  {
   "cell_type": "code",
   "execution_count": 364,
   "metadata": {},
   "outputs": [],
   "source": [
    "def custom_scaler(my_array):\n",
    "    ## Your code here\n",
    "    maxx = np.max(my_array)\n",
    "    minn = np.min(my_array)\n",
    "    my_array = np.where(my_array > 0, my_array , my_array * -2 / minn)\n",
    "    my_array = np.where(my_array < 0, my_array , my_array * 2 / maxx)\n",
    "    return my_array\n",
    "    # if the result should be int array\n",
    "    #return np.round(my_array) \n",
    "    \n",
    "    "
   ]
  },
  {
   "cell_type": "markdown",
   "metadata": {},
   "source": [
    "Check yourself"
   ]
  },
  {
   "cell_type": "code",
   "execution_count": 365,
   "metadata": {},
   "outputs": [
    {
     "name": "stdout",
     "output_type": "stream",
     "text": [
      "[-16  58 -99  57] ->> [-0.32323232  2.         -2.          1.96551724]\n"
     ]
    }
   ],
   "source": [
    "test_array = np.random.randint(-100, 100, size=4)\n",
    "result = custom_scaler(test_array)\n",
    "print(test_array, '->>', result)\n",
    "\n",
    "assert np.allclose(np.max(result), 2), f'Maximum value shoul be 2, got {np.max(result)} instead'\n",
    "assert np.allclose(np.min(result), -2), f'Minimum value should be -2, got {np.min(result)} instead'\n",
    "assert np.sum(result < -2) + np.sum(result > 2) == 0, 'All elements are supposed to be between -2 and 2'"
   ]
  },
  {
   "cell_type": "markdown",
   "metadata": {},
   "source": [
    "---\n",
    "**Task 4** (0.5 points) <br/>\n",
    "Create an array with shape of $5 \\times 6$ with integers from [0,50]. Select a column which contains the maximum element of the array."
   ]
  },
  {
   "cell_type": "code",
   "execution_count": 369,
   "metadata": {},
   "outputs": [],
   "source": [
    "my_array = np.random.randint(0,50,(5,6))\n",
    "selected_column = my_array[:,np.argmax(np.max(my_array, axis=0))]"
   ]
  },
  {
   "cell_type": "code",
   "execution_count": 370,
   "metadata": {},
   "outputs": [
    {
     "name": "stdout",
     "output_type": "stream",
     "text": [
      "Array:\n",
      " [[49 22 29 18 22 33]\n",
      " [22 17  3 43  2 18]\n",
      " [14 43 33 23 20 28]\n",
      " [31  7 32  6 39 45]\n",
      " [25 17 48  6 30 17]]\n",
      "Shape: (5, 6)\n",
      "Selected column [49 22 14 31 25]\n"
     ]
    }
   ],
   "source": [
    "print(f'Array:\\n {my_array}')\n",
    "print(f'Shape: {my_array.shape}')\n",
    "print(f'Selected column {selected_column}')"
   ]
  },
  {
   "cell_type": "markdown",
   "metadata": {},
   "source": [
    "---\n",
    "**Task 5** (0.5 points) <br/>\n",
    "\n",
    "Replace all missing values in the following array with mean."
   ]
  },
  {
   "cell_type": "code",
   "execution_count": 371,
   "metadata": {},
   "outputs": [
    {
     "name": "stdout",
     "output_type": "stream",
     "text": [
      "Given array: [0.35  nan  nan 0.26 0.55 0.33  nan 0.63  nan 0.65]\n"
     ]
    }
   ],
   "source": [
    "arr = np.random.rand(10)\n",
    "idx = np.random.randint(0, 10, 4)\n",
    "arr[idx] = np.nan\n",
    "\n",
    "print(f'Given array: {np.array2string(arr, precision=2)}')"
   ]
  },
  {
   "cell_type": "code",
   "execution_count": 372,
   "metadata": {},
   "outputs": [
    {
     "name": "stdout",
     "output_type": "stream",
     "text": [
      "Result: [0.35 0.46 0.46 0.26 0.55 0.33 0.46 0.63 0.46 0.65]\n"
     ]
    }
   ],
   "source": [
    "## Your code here\n",
    "arr = np.nan_to_num(arr, nan=np.nanmean(arr))\n",
    "print(f'Result: {np.array2string(arr, precision=2)}')"
   ]
  },
  {
   "cell_type": "markdown",
   "metadata": {},
   "source": [
    "---\n",
    "**Task 6** (0.5 points) <br/>\n",
    "Create a function which takes an image ```X``` (3D array of the shape (n, m, 3)) as an input and returns the mean for each of 3 channels (a vector of shape 3)."
   ]
  },
  {
   "cell_type": "code",
   "execution_count": 373,
   "metadata": {},
   "outputs": [],
   "source": [
    "def mean_channel(X):\n",
    "    # Your code here\n",
    "    return X.mean(axis=(0,1))"
   ]
  },
  {
   "cell_type": "code",
   "execution_count": 374,
   "metadata": {},
   "outputs": [
    {
     "data": {
      "text/plain": [
       "array([-0.41517857, -0.51116071, -0.53794643])"
      ]
     },
     "execution_count": 374,
     "metadata": {},
     "output_type": "execute_result"
    }
   ],
   "source": [
    "n = 28\n",
    "m = 16\n",
    "X =  np.random.randint(-10, 10, size=(n,m,3))\n",
    "mean_channel(X)"
   ]
  },
  {
   "cell_type": "markdown",
   "metadata": {},
   "source": [
    "---\n",
    "**Task 7** (1 points) <br/>\n",
    "Create a function which takes a matrix ```X``` as an input and returns all its unique rows as a matrix, i.e. in a 3D matrix you need to return all unique horizontal layers.\n",
    "\n",
    "Sample input:\n",
    "\n",
    "     ([[[4, 4],\n",
    "        [5, 5]],\n",
    "\n",
    "       [[4, 5],\n",
    "        [5, 5]],\n",
    "\n",
    "       [[4, 4],\n",
    "        [5, 4]],\n",
    "\n",
    "       [[4, 5],\n",
    "        [5, 5]],\n",
    "\n",
    "       [[5, 4],\n",
    "        [4, 4]],\n",
    "\n",
    "       [[5, 5],\n",
    "        [4, 5]]])\n",
    "        \n",
    "Sample output:\n",
    "\n",
    "     ([[[4, 4],\n",
    "        [5, 5]],\n",
    "\n",
    "       [[4, 5],\n",
    "        [5, 5]],\n",
    "\n",
    "       [[4, 4],\n",
    "        [5, 4]],\n",
    "\n",
    "       [[5, 4],\n",
    "        [4, 4]],\n",
    "\n",
    "       [[5, 5],\n",
    "        [4, 5]]])"
   ]
  },
  {
   "cell_type": "code",
   "execution_count": 375,
   "metadata": {},
   "outputs": [],
   "source": [
    "def get_unique_rows(X):\n",
    "    # Your code here \n",
    "    return np.unique(X, axis=0)"
   ]
  },
  {
   "cell_type": "code",
   "execution_count": 376,
   "metadata": {},
   "outputs": [
    {
     "data": {
      "text/plain": [
       "array([[[4, 4],\n",
       "        [4, 4]],\n",
       "\n",
       "       [[4, 4],\n",
       "        [4, 5]],\n",
       "\n",
       "       [[4, 4],\n",
       "        [5, 4]],\n",
       "\n",
       "       [[4, 4],\n",
       "        [5, 5]],\n",
       "\n",
       "       [[4, 5],\n",
       "        [4, 4]],\n",
       "\n",
       "       [[4, 5],\n",
       "        [4, 5]],\n",
       "\n",
       "       [[4, 5],\n",
       "        [5, 4]],\n",
       "\n",
       "       [[4, 5],\n",
       "        [5, 5]],\n",
       "\n",
       "       [[5, 4],\n",
       "        [4, 4]],\n",
       "\n",
       "       [[5, 4],\n",
       "        [4, 5]],\n",
       "\n",
       "       [[5, 4],\n",
       "        [5, 4]],\n",
       "\n",
       "       [[5, 4],\n",
       "        [5, 5]],\n",
       "\n",
       "       [[5, 5],\n",
       "        [4, 4]],\n",
       "\n",
       "       [[5, 5],\n",
       "        [5, 4]],\n",
       "\n",
       "       [[5, 5],\n",
       "        [5, 5]]])"
      ]
     },
     "execution_count": 376,
     "metadata": {},
     "output_type": "execute_result"
    }
   ],
   "source": [
    "X =  np.random.randint(4, 6, size=(n, 2, 2))\n",
    "get_unique_rows(X)"
   ]
  },
  {
   "cell_type": "markdown",
   "metadata": {},
   "source": [
    "# 3. Pandas & Visualization (4 points)\n"
   ]
  },
  {
   "cell_type": "markdown",
   "metadata": {},
   "source": [
    "You are going to work with *Titanic* dataset which contains information about passengers of Titanic:\n",
    "- **Survived** - 1 - survived, 0 - died (0); **Target variable**\n",
    "- **pclass** - passengers's class;\n",
    "- **sex** - passengers's sex\n",
    "- **Age** - passengers's age in years\n",
    "- **sibsp**    - is the passenger someones siblings   \n",
    "- **parch**    - is the passenger someones child or parent\n",
    "- **ticket** - ticket number    \n",
    "- **fare** - ticket price    \n",
    "- **cabin** - cabin number\n",
    "- **embarked** - port of Embarkation; C = Cherbourg, Q = Queenstown, S = Southampton\n",
    "\n",
    "**Note** for all visualizations use matplotlib or seaborn but NOT plotly! Plotly's graphics sometimes vanish after saving. In this case the task wont't be graded.\n",
    "\n",
    "**Note** support all your answers with necessary code, computations, vizualization, and explanation. Answers without code and explanation won't be graded.\n",
    "\n",
    "**Task 0** (0 points) \\\n",
    "Load the dataset"
   ]
  },
  {
   "cell_type": "code",
   "execution_count": 377,
   "metadata": {},
   "outputs": [
    {
     "data": {
      "text/html": [
       "<div>\n",
       "<style scoped>\n",
       "    .dataframe tbody tr th:only-of-type {\n",
       "        vertical-align: middle;\n",
       "    }\n",
       "\n",
       "    .dataframe tbody tr th {\n",
       "        vertical-align: top;\n",
       "    }\n",
       "\n",
       "    .dataframe thead th {\n",
       "        text-align: right;\n",
       "    }\n",
       "</style>\n",
       "<table border=\"1\" class=\"dataframe\">\n",
       "  <thead>\n",
       "    <tr style=\"text-align: right;\">\n",
       "      <th></th>\n",
       "      <th>PassengerId</th>\n",
       "      <th>Survived</th>\n",
       "      <th>Pclass</th>\n",
       "      <th>Name</th>\n",
       "      <th>Sex</th>\n",
       "      <th>Age</th>\n",
       "      <th>SibSp</th>\n",
       "      <th>Parch</th>\n",
       "      <th>Ticket</th>\n",
       "      <th>Fare</th>\n",
       "      <th>Cabin</th>\n",
       "      <th>Embarked</th>\n",
       "    </tr>\n",
       "  </thead>\n",
       "  <tbody>\n",
       "    <tr>\n",
       "      <th>0</th>\n",
       "      <td>1</td>\n",
       "      <td>0</td>\n",
       "      <td>3</td>\n",
       "      <td>Braund, Mr. Owen Harris</td>\n",
       "      <td>male</td>\n",
       "      <td>22.0</td>\n",
       "      <td>1</td>\n",
       "      <td>0</td>\n",
       "      <td>A/5 21171</td>\n",
       "      <td>7.2500</td>\n",
       "      <td>NaN</td>\n",
       "      <td>S</td>\n",
       "    </tr>\n",
       "    <tr>\n",
       "      <th>1</th>\n",
       "      <td>2</td>\n",
       "      <td>1</td>\n",
       "      <td>1</td>\n",
       "      <td>Cumings, Mrs. John Bradley (Florence Briggs Th...</td>\n",
       "      <td>female</td>\n",
       "      <td>38.0</td>\n",
       "      <td>1</td>\n",
       "      <td>0</td>\n",
       "      <td>PC 17599</td>\n",
       "      <td>71.2833</td>\n",
       "      <td>C85</td>\n",
       "      <td>C</td>\n",
       "    </tr>\n",
       "    <tr>\n",
       "      <th>2</th>\n",
       "      <td>3</td>\n",
       "      <td>1</td>\n",
       "      <td>3</td>\n",
       "      <td>Heikkinen, Miss. Laina</td>\n",
       "      <td>female</td>\n",
       "      <td>26.0</td>\n",
       "      <td>0</td>\n",
       "      <td>0</td>\n",
       "      <td>STON/O2. 3101282</td>\n",
       "      <td>7.9250</td>\n",
       "      <td>NaN</td>\n",
       "      <td>S</td>\n",
       "    </tr>\n",
       "  </tbody>\n",
       "</table>\n",
       "</div>"
      ],
      "text/plain": [
       "   PassengerId  Survived  Pclass  \\\n",
       "0            1         0       3   \n",
       "1            2         1       1   \n",
       "2            3         1       3   \n",
       "\n",
       "                                                Name     Sex   Age  SibSp  \\\n",
       "0                            Braund, Mr. Owen Harris    male  22.0      1   \n",
       "1  Cumings, Mrs. John Bradley (Florence Briggs Th...  female  38.0      1   \n",
       "2                             Heikkinen, Miss. Laina  female  26.0      0   \n",
       "\n",
       "   Parch            Ticket     Fare Cabin Embarked  \n",
       "0      0         A/5 21171   7.2500   NaN        S  \n",
       "1      0          PC 17599  71.2833   C85        C  \n",
       "2      0  STON/O2. 3101282   7.9250   NaN        S  "
      ]
     },
     "execution_count": 377,
     "metadata": {},
     "output_type": "execute_result"
    }
   ],
   "source": [
    "dataset = pd.read_csv (r'titanic.csv')\n",
    "dataset.head(3)"
   ]
  },
  {
   "cell_type": "markdown",
   "metadata": {},
   "source": [
    "---\n",
    "**Task 1** (1 points) <br/>\n",
    "Answer the following questions:\n",
    "    \n",
    "   * Are there any missing values? In which columns?\n",
    "   * How many classes (pclass) were there on Tinanic?\n",
    "   * What is the percentage of survived passengers? Are the classes balanced?\n",
    "   * What is the average ticket fare?\n",
    "   * What was the most popular port of embarkation?\n",
    "Please, write not only the answers but the code, proving it."
   ]
  },
  {
   "cell_type": "markdown",
   "metadata": {},
   "source": [
    "**Are there any missing values? In which columns?**</br>\n",
    " **Answer:** Yes, there is missing values in three columns: Age with `19.9%` of missing values, Cabin with `77.1%` of missing values and Embarked with `0.2%` of missing values. The code below proves that:"
   ]
  },
  {
   "cell_type": "code",
   "execution_count": 378,
   "metadata": {},
   "outputs": [
    {
     "data": {
      "text/plain": [
       "Age         0.199\n",
       "Cabin       0.771\n",
       "Embarked    0.002\n",
       "dtype: float64"
      ]
     },
     "execution_count": 378,
     "metadata": {},
     "output_type": "execute_result"
    }
   ],
   "source": [
    "## Your code here\n",
    "np.round(dataset.isna().sum()[dataset.isna().sum()>0] / dataset.shape[0],3)"
   ]
  },
  {
   "cell_type": "markdown",
   "metadata": {},
   "source": [
    "**How many classes (pclass) were there on Tinanic?**</br>\n",
    " **Answer:** There are three classes: `1` repeated `216` times, `2` repeated `184` times and `3` repeated `491` times. The code below proves that: "
   ]
  },
  {
   "cell_type": "code",
   "execution_count": 379,
   "metadata": {},
   "outputs": [
    {
     "data": {
      "text/plain": [
       "(array([1, 2, 3], dtype=int64), array([216, 184, 491], dtype=int64))"
      ]
     },
     "execution_count": 379,
     "metadata": {},
     "output_type": "execute_result"
    }
   ],
   "source": [
    "values, counts = np.unique(dataset['Pclass'], return_counts=True) \n",
    "(values, counts)"
   ]
  },
  {
   "cell_type": "markdown",
   "metadata": {},
   "source": [
    "**What is the percentage of survived passengers? Are the classes balanced?**</br>\n",
    " **Answer:** The percentage of survived passengers is `38.4%` and the two classes(`1 - survived, 0 - died`) are imbalanced, because the difference in the number of sample count in each class is huge(`342:549`). The code below proves that:\n"
   ]
  },
  {
   "cell_type": "code",
   "execution_count": 380,
   "metadata": {},
   "outputs": [
    {
     "data": {
      "text/plain": [
       "0.384"
      ]
     },
     "execution_count": 380,
     "metadata": {},
     "output_type": "execute_result"
    }
   ],
   "source": [
    "np.round(len(dataset['Survived'][dataset['Survived'] == 1]) / dataset['Survived'].shape[0], 3)"
   ]
  },
  {
   "cell_type": "markdown",
   "metadata": {},
   "source": [
    "**What is the average ticket fare?**</br>\n",
    " **Answer:** The average of ticket fare is `32.204`. The code below proves that:"
   ]
  },
  {
   "cell_type": "code",
   "execution_count": 381,
   "metadata": {},
   "outputs": [
    {
     "data": {
      "text/plain": [
       "32.204"
      ]
     },
     "execution_count": 381,
     "metadata": {},
     "output_type": "execute_result"
    }
   ],
   "source": [
    "np.round(np.mean(dataset['Fare']), 3)"
   ]
  },
  {
   "cell_type": "markdown",
   "metadata": {},
   "source": [
    "**What was the most popular port of embarkation?**</br>\n",
    " **Answer:** The most popular port of embarkation is `S`, which was repeated `644` times. The code below proves that:"
   ]
  },
  {
   "cell_type": "code",
   "execution_count": 382,
   "metadata": {},
   "outputs": [
    {
     "data": {
      "text/plain": [
       "[('S', 644)]"
      ]
     },
     "execution_count": 382,
     "metadata": {},
     "output_type": "execute_result"
    }
   ],
   "source": [
    "from collections import Counter\n",
    "c = Counter(dataset['Embarked'])\n",
    "c.most_common(1)"
   ]
  },
  {
   "cell_type": "markdown",
   "metadata": {},
   "source": [
    "---\n",
    "**Task 2** (1 points) <br/>\n",
    "Find all the titles of the passengers (example, *Capt., Mr.,Mme.*), which are written in the column `Name`, and answer the following questions:\n",
    "\n",
    "   * How many are there unique titles?\n",
    "   * How many are there passengers with every title?\n",
    "   * What is the most popular man's title? And woman's title?\n",
    "    \n",
    "**Hint** You may select the title from the name as a word which contains a dot."
   ]
  },
  {
   "cell_type": "code",
   "execution_count": 383,
   "metadata": {},
   "outputs": [
    {
     "data": {
      "text/plain": [
       "0        Mr\n",
       "1       Mrs\n",
       "2      Miss\n",
       "3       Mrs\n",
       "4        Mr\n",
       "       ... \n",
       "886     Rev\n",
       "887    Miss\n",
       "888    Miss\n",
       "889      Mr\n",
       "890      Mr\n",
       "Name: Name, Length: 891, dtype: object"
      ]
     },
     "execution_count": 383,
     "metadata": {},
     "output_type": "execute_result"
    }
   ],
   "source": [
    "## Your code here\n",
    "import re\n",
    "\n",
    "def getTitle(name):\n",
    "    title = re.search(' ([A-Za-z]+)\\.', name)\n",
    "    if title:\n",
    "        return title.group(1)\n",
    "    return \"\"\n",
    "\n",
    "titles = dataset[\"Name\"].apply(getTitle)\n",
    "titles"
   ]
  },
  {
   "cell_type": "markdown",
   "metadata": {},
   "source": [
    "**How many are there unique titles?**</br>\n",
    "**Answer:** There are 17 titles `['Capt' 'Col' 'Countess' 'Don' 'Dr' 'Jonkheer' 'Lady' 'Major' 'Master'\n",
    " 'Miss' 'Mlle' 'Mme' 'Mr' 'Mrs' 'Ms' 'Rev' 'Sir']`"
   ]
  },
  {
   "cell_type": "code",
   "execution_count": 384,
   "metadata": {},
   "outputs": [
    {
     "name": "stdout",
     "output_type": "stream",
     "text": [
      "['Capt' 'Col' 'Countess' 'Don' 'Dr' 'Jonkheer' 'Lady' 'Major' 'Master'\n",
      " 'Miss' 'Mlle' 'Mme' 'Mr' 'Mrs' 'Ms' 'Rev' 'Sir'] 17\n"
     ]
    }
   ],
   "source": [
    "values, counts = np.unique(titles, return_counts=True) \n",
    "print(values, len(values))"
   ]
  },
  {
   "cell_type": "markdown",
   "metadata": {},
   "source": [
    "**How many are there passengers with every title?**</br>\n",
    "**Answer:** `['Capt': 1, 'Col': 2, 'Countess': 1, 'Don': 1, 'Dr': 7, 'Jonkheer': 1, 'Lady': 1,\n",
    "        'Major': 2, 'Master': 40, 'Miss': 182, 'Mlle': 2, 'Mme': 1, 'Mr': 517, 'Mrs': 125, 'Ms': 1, 'Rev': 6,\n",
    "        'Sir': 1]`"
   ]
  },
  {
   "cell_type": "code",
   "execution_count": 385,
   "metadata": {},
   "outputs": [
    {
     "data": {
      "text/plain": [
       "{'Capt': 1,\n",
       " 'Col': 2,\n",
       " 'Countess': 1,\n",
       " 'Don': 1,\n",
       " 'Dr': 7,\n",
       " 'Jonkheer': 1,\n",
       " 'Lady': 1,\n",
       " 'Major': 2,\n",
       " 'Master': 40,\n",
       " 'Miss': 182,\n",
       " 'Mlle': 2,\n",
       " 'Mme': 1,\n",
       " 'Mr': 517,\n",
       " 'Mrs': 125,\n",
       " 'Ms': 1,\n",
       " 'Rev': 6,\n",
       " 'Sir': 1}"
      ]
     },
     "execution_count": 385,
     "metadata": {},
     "output_type": "execute_result"
    }
   ],
   "source": [
    "dict(zip(values, counts))"
   ]
  },
  {
   "cell_type": "markdown",
   "metadata": {},
   "source": [
    "**What is the most popular man's title? And woman's title?**</br>\n",
    "**Answer:**"
   ]
  },
  {
   "cell_type": "code",
   "execution_count": 386,
   "metadata": {},
   "outputs": [],
   "source": [
    "def getSex(title):\n",
    "    return dataset['Sex'][titles[titles == title].index[0]]"
   ]
  },
  {
   "cell_type": "code",
   "execution_count": 387,
   "metadata": {},
   "outputs": [],
   "source": [
    "# getting the sex of each title using dataset['Sex']\n",
    "valuesS = pd.Series(values)\n",
    "titleSex = valuesS.apply(getSex)\n",
    "\n",
    "# getting the indexes of male titles\n",
    "maleTitles = np.where(titleSex == 'male')\n",
    "# getting the indexes of female titles\n",
    "femaleTitles = np.where(titleSex == 'female')"
   ]
  },
  {
   "cell_type": "code",
   "execution_count": 388,
   "metadata": {},
   "outputs": [],
   "source": [
    "maleTitlesCounts = counts[maleTitles]\n",
    "femaleTitlesCounts = counts[femaleTitles]"
   ]
  },
  {
   "cell_type": "code",
   "execution_count": 389,
   "metadata": {},
   "outputs": [
    {
     "name": "stdout",
     "output_type": "stream",
     "text": [
      "most popular man's title\n"
     ]
    },
    {
     "data": {
      "text/plain": [
       "(array(['Mr'], dtype=object), 517)"
      ]
     },
     "execution_count": 389,
     "metadata": {},
     "output_type": "execute_result"
    }
   ],
   "source": [
    "maleTitleMaxCount = np.max(maleTitlesCounts)\n",
    "temp = np.where(counts == maleTitleMaxCount)\n",
    "print('most popular man\\'s title')\n",
    "values[temp], maleTitleMaxCount"
   ]
  },
  {
   "cell_type": "code",
   "execution_count": 390,
   "metadata": {},
   "outputs": [
    {
     "name": "stdout",
     "output_type": "stream",
     "text": [
      "most popular woman's title\n"
     ]
    },
    {
     "data": {
      "text/plain": [
       "(array(['Miss'], dtype=object), 182)"
      ]
     },
     "execution_count": 390,
     "metadata": {},
     "output_type": "execute_result"
    }
   ],
   "source": [
    "femaleTitleMaxCount = np.max(femaleTitlesCounts)\n",
    "temp = np.where(counts == femaleTitleMaxCount)\n",
    "print('most popular woman\\'s title')\n",
    "values[temp], femaleTitleMaxCount"
   ]
  },
  {
   "cell_type": "markdown",
   "metadata": {},
   "source": [
    "---\n",
    "**Task 3** (0.5 points) <br/>\n",
    "Visualize age distribution (you may use a histogram, for example). \n",
    "\n",
    "   * What is the minimal and maximum ages of the passengers? Visualize it on the plot\n",
    "   * What is the mean age? Visualize it on the plot\n",
    "   * Make conclusions about what you see on the plot"
   ]
  },
  {
   "cell_type": "markdown",
   "metadata": {},
   "source": [
    "**What is the minimal and maximum ages of the passengers? Visualize it on the plot**</br>\n",
    "**Answer:** the minimum age is `0.42` and the maximum age is `80`"
   ]
  },
  {
   "cell_type": "code",
   "execution_count": 391,
   "metadata": {},
   "outputs": [
    {
     "data": {
      "text/plain": [
       "(80.0, 0.42)"
      ]
     },
     "execution_count": 391,
     "metadata": {},
     "output_type": "execute_result"
    }
   ],
   "source": [
    "maxAge = dataset['Age'].max()\n",
    "minAge =dataset['Age'].min()\n",
    "maxAge, minAge"
   ]
  },
  {
   "cell_type": "code",
   "execution_count": 392,
   "metadata": {},
   "outputs": [
    {
     "name": "stderr",
     "output_type": "stream",
     "text": [
      "C:\\Users\\Yanal\\AppData\\Local\\Temp/ipykernel_20692/1891386678.py:8: RuntimeWarning: invalid value encountered in true_divide\n",
      "  plt.plot(x, x*maxAge/x, '-', label = 'MaxAge')\n",
      "C:\\Users\\Yanal\\AppData\\Local\\Temp/ipykernel_20692/1891386678.py:9: RuntimeWarning: invalid value encountered in true_divide\n",
      "  plt.plot(x, x*minAge/x, '--', label = 'MinAge');\n"
     ]
    },
    {
     "data": {
      "image/png": "[encoded data removed]",
      "text/plain": [
       "<Figure size 432x288 with 1 Axes>"
      ]
     },
     "metadata": {
      "needs_background": "light"
     },
     "output_type": "display_data"
    }
   ],
   "source": [
    "## Your code here\n",
    "%matplotlib inline\n",
    "x = np.linspace(0, 1000, 1000)\n",
    "\n",
    "plt.title(\"Passengers Ages\", loc = 'left')\n",
    "plt.xlabel(\"PassengerId\")\n",
    "plt.ylabel(\"Age\")\n",
    "plt.plot(x, x*maxAge/x, '-', label = 'MaxAge')\n",
    "plt.plot(x, x*minAge/x, '--', label = 'MinAge');\n",
    "plt.plot(dataset['PassengerId'], dataset['Age'], '*')\n",
    "plt.legend()\n",
    "plt.show()"
   ]
  },
  {
   "cell_type": "markdown",
   "metadata": {},
   "source": [
    "**What is the mean age? Visualize it on the plot**</br>\n",
    "**Answer:** The mean age is `29.7`"
   ]
  },
  {
   "cell_type": "code",
   "execution_count": 393,
   "metadata": {},
   "outputs": [
    {
     "data": {
      "text/plain": [
       "29.7"
      ]
     },
     "execution_count": 393,
     "metadata": {},
     "output_type": "execute_result"
    }
   ],
   "source": [
    "meanAge = np.round(np.mean(dataset['Age']), 2)\n",
    "meanAge"
   ]
  },
  {
   "cell_type": "code",
   "execution_count": 394,
   "metadata": {},
   "outputs": [
    {
     "name": "stderr",
     "output_type": "stream",
     "text": [
      "C:\\Users\\Yanal\\AppData\\Local\\Temp/ipykernel_20692/1970158937.py:7: RuntimeWarning: invalid value encountered in true_divide\n",
      "  plt.plot(x, x*meanAge/x, '-', label = 'MeanAge')\n"
     ]
    },
    {
     "data": {
      "image/png": "[encoded data removed]",
      "text/plain": [
       "<Figure size 432x288 with 1 Axes>"
      ]
     },
     "metadata": {
      "needs_background": "light"
     },
     "output_type": "display_data"
    }
   ],
   "source": [
    "%matplotlib inline\n",
    "x = np.linspace(0, 1000, 1000)\n",
    "\n",
    "plt.title(\"Passengers Ages\", loc = 'left')\n",
    "plt.xlabel(\"PassengerId\")\n",
    "plt.ylabel(\"Age\")\n",
    "plt.plot(x, x*meanAge/x, '-', label = 'MeanAge')\n",
    "plt.plot(dataset['PassengerId'], dataset['Age'], '*')\n",
    "plt.legend()\n",
    "plt.show()"
   ]
  },
  {
   "cell_type": "markdown",
   "metadata": {},
   "source": [
    "**Make conclusions about what you see on the plot**</br>\n",
    "**Answer:** From the data we have, we can notice some info about the ages of the passengers on the titanic:</br>\n",
    "  * Older people aged `[70, 80]` are few\n",
    "  * On the titanic were a lot of childrens and babies\n",
    "  * Oldest passenger is `80` years old\n",
    "  * Youngest passenger is `0.42` years old\n",
    "  * The average age of passengers is `29.7`\n",
    "  * Most of passengers aged `[15, 50]` years old"
   ]
  },
  {
   "cell_type": "markdown",
   "metadata": {},
   "source": [
    "---\n",
    "**Task 4** (0.5 points) <br/>\n",
    "Visualize age distribution for survived and not survived passengers separately and calculate the mean age for each class. Are they different? Make conclusions about what you see on the plot"
   ]
  },
  {
   "cell_type": "code",
   "execution_count": 395,
   "metadata": {},
   "outputs": [
    {
     "data": {
      "text/plain": [
       "(28.34, 30.63)"
      ]
     },
     "execution_count": 395,
     "metadata": {},
     "output_type": "execute_result"
    }
   ],
   "source": [
    "## You code here\n",
    "survivorsIndexes = np.where(dataset['Survived'] == 1)\n",
    "nonsurvivorsIndexes = np.where(dataset['Survived'] == 0)\n",
    "survivorsAges = dataset['Age'][survivorsIndexes[0]]\n",
    "nonsurvivorsAges = dataset['Age'][nonsurvivorsIndexes[0]]\n",
    "meanAgeOfSurvivors = np.round(np.mean(survivorsAges), 2)\n",
    "meanAgeOfNonsurvivors = np.round(np.mean(nonsurvivorsAges), 2)\n",
    "meanAgeOfSurvivors, meanAgeOfNonsurvivors"
   ]
  },
  {
   "cell_type": "code",
   "execution_count": 396,
   "metadata": {},
   "outputs": [
    {
     "name": "stderr",
     "output_type": "stream",
     "text": [
      "C:\\Users\\Yanal\\AppData\\Local\\Temp/ipykernel_20692/3781408148.py:6: RuntimeWarning: invalid value encountered in true_divide\n",
      "  plt.plot(x, x*meanAgeOfSurvivors/x, '-', label = 'Mean age of survivors')\n"
     ]
    },
    {
     "data": {
      "image/png": "[encoded data removed]",
      "text/plain": [
       "<Figure size 432x288 with 1 Axes>"
      ]
     },
     "metadata": {
      "needs_background": "light"
     },
     "output_type": "display_data"
    }
   ],
   "source": [
    "%matplotlib inline\n",
    "\n",
    "plt.title(\"Ages of survivors\", loc = 'left')\n",
    "plt.xlabel(\"PassengerId\")\n",
    "plt.ylabel(\"Age\")\n",
    "plt.plot(x, x*meanAgeOfSurvivors/x, '-', label = 'Mean age of survivors')\n",
    "plt.plot(survivorsIndexes[0], survivorsAges , '*')\n",
    "plt.legend()\n",
    "plt.show()"
   ]
  },
  {
   "cell_type": "code",
   "execution_count": 397,
   "metadata": {
    "scrolled": true
   },
   "outputs": [
    {
     "name": "stderr",
     "output_type": "stream",
     "text": [
      "C:\\Users\\Yanal\\AppData\\Local\\Temp/ipykernel_20692/1459017883.py:6: RuntimeWarning: invalid value encountered in true_divide\n",
      "  plt.plot(x, x*meanAgeOfNonsurvivors/x, '-', label = 'Mean age of non-survivors')\n"
     ]
    },
    {
     "data": {
      "image/png": "[encoded data removed]",
      "text/plain": [
       "<Figure size 432x288 with 1 Axes>"
      ]
     },
     "metadata": {
      "needs_background": "light"
     },
     "output_type": "display_data"
    }
   ],
   "source": [
    "%matplotlib inline\n",
    "\n",
    "plt.title(\"Ages of non-survivors\", loc = 'left')\n",
    "plt.xlabel(\"PassengerId\")\n",
    "plt.ylabel(\"Age\")\n",
    "plt.plot(x, x*meanAgeOfNonsurvivors/x, '-', label = 'Mean age of non-survivors')\n",
    "plt.plot(nonsurvivorsIndexes[0], nonsurvivorsAges , '*')\n",
    "plt.legend()\n",
    "plt.show()"
   ]
  },
  {
   "cell_type": "markdown",
   "metadata": {},
   "source": [
    "**Conclusions:**</br>\n",
    "Yes, the age distribution for survived and not survived passengers are different, and this is what we can observe from those plots:\n",
    "* There is difference in the number of sample count for each class, where we can notice, that the number of non-survivors much more than the number of survivors.\n",
    "* There is only one survivor aged between about `[65, 80]`\n",
    "* There are more infant and child survivors than non-survivors.\n",
    "* The largest number of non-survivors were between about `15` and `50` years old\n",
    "* The average age of survivors passengers is `28.34`\n",
    "* The average age of non-survivors passengers is `30.63`"
   ]
  },
  {
   "cell_type": "markdown",
   "metadata": {},
   "source": [
    "---\n",
    "---\n",
    "**Task 5** (0.5 points) <br/>\n",
    "Is there correlation between the port of embarkation and the ticket price? Calculate mean price for each port and visualize price distribution for each port. Make conclusions about what you see on the plot\n",
    "\n",
    "Hint: you could make one or several plot types i.e.  box, violine, pair, histogram (see additional notebooks for Seminar 1 \"Visualization with Seaborn\"). The main point here is to **choose** plots wisely and **make meaningful conclusions**\n",
    "\n"
   ]
  },
  {
   "cell_type": "code",
   "execution_count": 398,
   "metadata": {},
   "outputs": [
    {
     "data": {
      "text/plain": [
       "Counter({'S': 644, 'C': 168, 'Q': 77, nan: 2})"
      ]
     },
     "execution_count": 398,
     "metadata": {},
     "output_type": "execute_result"
    }
   ],
   "source": [
    "c = Counter(dataset['Embarked'])\n",
    "c"
   ]
  },
  {
   "cell_type": "code",
   "execution_count": 399,
   "metadata": {},
   "outputs": [
    {
     "data": {
      "text/plain": [
       "27.08"
      ]
     },
     "execution_count": 399,
     "metadata": {},
     "output_type": "execute_result"
    }
   ],
   "source": [
    "## You code here\n",
    "S_embarkation_indexes = np.where(dataset['Embarked']=='S')[0]\n",
    "S_prices = dataset['Fare'][S_embarkation_indexes]\n",
    "mean_S_prices = np.round(np.mean(S_prices), 2)\n",
    "mean_S_prices"
   ]
  },
  {
   "cell_type": "code",
   "execution_count": 400,
   "metadata": {},
   "outputs": [
    {
     "name": "stderr",
     "output_type": "stream",
     "text": [
      "C:\\Users\\Yanal\\AppData\\Local\\Temp/ipykernel_20692/3377160072.py:6: RuntimeWarning: invalid value encountered in true_divide\n",
      "  plt.plot(x, x*mean_S_prices/x, '-', label = 'Mean prices of tickets from Southampton')\n"
     ]
    },
    {
     "data": {
      "image/png": "[encoded data removed]",
      "text/plain": [
       "<Figure size 432x288 with 1 Axes>"
      ]
     },
     "metadata": {
      "needs_background": "light"
     },
     "output_type": "display_data"
    }
   ],
   "source": [
    "%matplotlib inline\n",
    "\n",
    "plt.title(\"Prices of tickets from Southampton\", loc = 'left')\n",
    "plt.xlabel(\"PassengerId\")\n",
    "plt.ylabel(\"Ticket price\")\n",
    "plt.plot(x, x*mean_S_prices/x, '-', label = 'Mean prices of tickets from Southampton')\n",
    "plt.plot(S_embarkation_indexes, S_prices , '*')\n",
    "plt.legend()\n",
    "plt.show()"
   ]
  },
  {
   "cell_type": "code",
   "execution_count": 401,
   "metadata": {},
   "outputs": [
    {
     "data": {
      "text/plain": [
       "<AxesSubplot:ylabel='Frequency'>"
      ]
     },
     "execution_count": 401,
     "metadata": {},
     "output_type": "execute_result"
    },
    {
     "data": {
      "image/png": "[encoded data removed]",
      "text/plain": [
       "<Figure size 432x288 with 1 Axes>"
      ]
     },
     "metadata": {
      "needs_background": "light"
     },
     "output_type": "display_data"
    }
   ],
   "source": [
    "S_prices.value_counts().sort_index().plot(kind='hist')"
   ]
  },
  {
   "cell_type": "code",
   "execution_count": 402,
   "metadata": {},
   "outputs": [
    {
     "data": {
      "text/plain": [
       "<AxesSubplot:xlabel='Fare'>"
      ]
     },
     "execution_count": 402,
     "metadata": {},
     "output_type": "execute_result"
    },
    {
     "data": {
      "image/png": "[encoded data removed]",
      "text/plain": [
       "<Figure size 432x288 with 1 Axes>"
      ]
     },
     "metadata": {},
     "output_type": "display_data"
    }
   ],
   "source": [
    "sns.set_theme(style=\"white\")\n",
    "sns.violinplot(x = S_prices)"
   ]
  },
  {
   "cell_type": "code",
   "execution_count": 403,
   "metadata": {},
   "outputs": [
    {
     "data": {
      "text/plain": [
       "59.95"
      ]
     },
     "execution_count": 403,
     "metadata": {},
     "output_type": "execute_result"
    }
   ],
   "source": [
    "C_embarkation_indexes = np.where(dataset['Embarked']=='C')[0]\n",
    "C_prices = dataset['Fare'][C_embarkation_indexes]\n",
    "mean_C_prices = np.round(np.mean(C_prices), 2)\n",
    "mean_C_prices"
   ]
  },
  {
   "cell_type": "code",
   "execution_count": 404,
   "metadata": {
    "scrolled": true
   },
   "outputs": [
    {
     "name": "stderr",
     "output_type": "stream",
     "text": [
      "C:\\Users\\Yanal\\AppData\\Local\\Temp/ipykernel_20692/3748633107.py:6: RuntimeWarning: invalid value encountered in true_divide\n",
      "  plt.plot(x, x*mean_C_prices/x, '-', label = 'Mean prices of tickets from Cherbourg')\n"
     ]
    },
    {
     "data": {
      "image/png": "[encoded data removed]",
      "text/plain": [
       "<Figure size 432x288 with 1 Axes>"
      ]
     },
     "metadata": {
      "needs_background": "light"
     },
     "output_type": "display_data"
    }
   ],
   "source": [
    "%matplotlib inline\n",
    "\n",
    "plt.title(\"Prices of tickets from Cherbourg\", loc = 'left')\n",
    "plt.xlabel(\"PassengerId\")\n",
    "plt.ylabel(\"Ticket price\")\n",
    "plt.plot(x, x*mean_C_prices/x, '-', label = 'Mean prices of tickets from Cherbourg')\n",
    "plt.plot(C_embarkation_indexes, C_prices , '*', color = 'red')\n",
    "plt.legend()\n",
    "plt.show()"
   ]
  },
  {
   "cell_type": "code",
   "execution_count": 405,
   "metadata": {},
   "outputs": [
    {
     "data": {
      "text/plain": [
       "<AxesSubplot:ylabel='Frequency'>"
      ]
     },
     "execution_count": 405,
     "metadata": {},
     "output_type": "execute_result"
    },
    {
     "data": {
      "image/png": "[encoded data removed]",
      "text/plain": [
       "<Figure size 432x288 with 1 Axes>"
      ]
     },
     "metadata": {
      "needs_background": "light"
     },
     "output_type": "display_data"
    }
   ],
   "source": [
    "C_prices.value_counts().sort_index().plot(kind='hist', color = 'red')"
   ]
  },
  {
   "cell_type": "code",
   "execution_count": 406,
   "metadata": {},
   "outputs": [
    {
     "data": {
      "text/plain": [
       "<AxesSubplot:xlabel='Fare'>"
      ]
     },
     "execution_count": 406,
     "metadata": {},
     "output_type": "execute_result"
    },
    {
     "data": {
      "image/png": "[encoded data removed]",
      "text/plain": [
       "<Figure size 432x288 with 1 Axes>"
      ]
     },
     "metadata": {},
     "output_type": "display_data"
    }
   ],
   "source": [
    "sns.set_theme(style=\"white\" )\n",
    "sns.violinplot(x = C_prices, color = 'red')"
   ]
  },
  {
   "cell_type": "code",
   "execution_count": 407,
   "metadata": {},
   "outputs": [
    {
     "data": {
      "text/plain": [
       "13.28"
      ]
     },
     "execution_count": 407,
     "metadata": {},
     "output_type": "execute_result"
    }
   ],
   "source": [
    "Q_embarkation_indexes = np.where(dataset['Embarked']=='Q')[0]\n",
    "Q_prices = dataset['Fare'][Q_embarkation_indexes]\n",
    "mean_Q_prices = np.round(np.mean(Q_prices), 2)\n",
    "mean_Q_prices"
   ]
  },
  {
   "cell_type": "code",
   "execution_count": 408,
   "metadata": {},
   "outputs": [
    {
     "name": "stderr",
     "output_type": "stream",
     "text": [
      "C:\\Users\\Yanal\\AppData\\Local\\Temp/ipykernel_20692/1184288526.py:6: RuntimeWarning: invalid value encountered in true_divide\n",
      "  plt.plot(x, x*mean_Q_prices/x, '-', label = 'Mean prices of tickets from Queenstown')\n"
     ]
    },
    {
     "data": {
      "image/png": "[encoded data removed]",
      "text/plain": [
       "<Figure size 432x288 with 1 Axes>"
      ]
     },
     "metadata": {
      "needs_background": "light"
     },
     "output_type": "display_data"
    }
   ],
   "source": [
    "%matplotlib inline\n",
    "\n",
    "plt.title(\"Prices of tickets from Queenstown\", loc = 'left')\n",
    "plt.xlabel(\"PassengerId\")\n",
    "plt.ylabel(\"Ticket price\")\n",
    "plt.plot(x, x*mean_Q_prices/x, '-', label = 'Mean prices of tickets from Queenstown')\n",
    "plt.plot(Q_embarkation_indexes, Q_prices , '*', color = 'green')\n",
    "plt.legend()\n",
    "plt.show()"
   ]
  },
  {
   "cell_type": "code",
   "execution_count": 409,
   "metadata": {},
   "outputs": [
    {
     "data": {
      "text/plain": [
       "<AxesSubplot:ylabel='Frequency'>"
      ]
     },
     "execution_count": 409,
     "metadata": {},
     "output_type": "execute_result"
    },
    {
     "data": {
      "image/png": "[encoded data removed]",
      "text/plain": [
       "<Figure size 432x288 with 1 Axes>"
      ]
     },
     "metadata": {
      "needs_background": "light"
     },
     "output_type": "display_data"
    }
   ],
   "source": [
    "Q_prices.value_counts().sort_index().plot(kind='hist', color = 'green')"
   ]
  },
  {
   "cell_type": "code",
   "execution_count": 410,
   "metadata": {},
   "outputs": [
    {
     "data": {
      "text/plain": [
       "<AxesSubplot:xlabel='Fare'>"
      ]
     },
     "execution_count": 410,
     "metadata": {},
     "output_type": "execute_result"
    },
    {
     "data": {
      "image/png": "[encoded data removed]",
      "text/plain": [
       "<Figure size 432x288 with 1 Axes>"
      ]
     },
     "metadata": {},
     "output_type": "display_data"
    }
   ],
   "source": [
    "sns.set_theme(style=\"white\" )\n",
    "sns.violinplot(x = Q_prices, color = 'green')"
   ]
  },
  {
   "cell_type": "code",
   "execution_count": 411,
   "metadata": {
    "scrolled": true
   },
   "outputs": [
    {
     "data": {
      "image/png": "[encoded data removed]",
      "text/plain": [
       "<Figure size 432x288 with 1 Axes>"
      ]
     },
     "metadata": {},
     "output_type": "display_data"
    }
   ],
   "source": [
    "x = np.arange(3)\n",
    "height = [mean_Q_prices, mean_S_prices, mean_C_prices]\n",
    "\n",
    "plt.bar(x, height, align='center', color='c')\n",
    "\n",
    "plt.title('Mean price of each embarkation')\n",
    "\n",
    "plt.ylabel('Mean price')\n",
    "plt.xlabel('Embarkation')\n",
    "plt.xticks(x, ('Q','S','C'))\n",
    "\n",
    "plt.show()"
   ]
  },
  {
   "cell_type": "code",
   "execution_count": 412,
   "metadata": {},
   "outputs": [
    {
     "data": {
      "image/png": "[encoded data removed]",
      "text/plain": [
       "<Figure size 432x288 with 1 Axes>"
      ]
     },
     "metadata": {},
     "output_type": "display_data"
    }
   ],
   "source": [
    "y = [mean_Q_prices, mean_S_prices, mean_C_prices]\n",
    "mylabels = ['Q','S','C']\n",
    "\n",
    "plt.pie(y, labels = mylabels)\n",
    "plt.show() "
   ]
  },
  {
   "cell_type": "markdown",
   "metadata": {},
   "source": [
    "**Conclusions**</br>\n",
    "To make sure if there is a correlation between the port of embarkation and the ticket price, we calculate the mean of each class of prices(C - Q - S), we get the mean price of C class = `59.95`, the mean price of Q class = `13.28` and the mean price of S class = `27.08`, we can note that minimum mean price for class Q then to S and then to C. That proves us that there is a correlation between the port of embarkation and the ticket price, where passengers who got on the titanic from Cherbourg, paid more then almost all others passengers (`about <= 150`), passengers from Southampton paid less then passengers from Cherbourg (`about <= 100`), while passengers from Queenstown paid lowest cost(`about <= 20`)."
   ]
  },
  {
   "cell_type": "markdown",
   "metadata": {},
   "source": [
    "---\n",
    "**Task 6** (0.5 points) <br/>\n",
    "The same question as in task 5 about correlation between *pclass* and *ticket priсe*."
   ]
  },
  {
   "cell_type": "code",
   "execution_count": 413,
   "metadata": {},
   "outputs": [
    {
     "data": {
      "text/plain": [
       "(array([1, 2, 3], dtype=int64), array([216, 184, 491], dtype=int64))"
      ]
     },
     "execution_count": 413,
     "metadata": {},
     "output_type": "execute_result"
    }
   ],
   "source": [
    "## You code here\n",
    "values, counts = np.unique(dataset['Pclass'], return_counts=True) \n",
    "(values, counts)\n"
   ]
  },
  {
   "cell_type": "code",
   "execution_count": 414,
   "metadata": {},
   "outputs": [
    {
     "data": {
      "text/plain": [
       "84.15"
      ]
     },
     "execution_count": 414,
     "metadata": {},
     "output_type": "execute_result"
    }
   ],
   "source": [
    "pclass_1_indexes = np.where(dataset['Pclass']==1)[0]\n",
    "pclass_1_prices = dataset['Fare'][pclass_1_indexes]\n",
    "mean_pclass_1_prices = np.round(np.mean(pclass_1_prices), 2)\n",
    "mean_pclass_1_prices"
   ]
  },
  {
   "cell_type": "code",
   "execution_count": 415,
   "metadata": {},
   "outputs": [
    {
     "name": "stderr",
     "output_type": "stream",
     "text": [
      "C:\\Users\\Yanal\\AppData\\Local\\Temp/ipykernel_20692/660340949.py:7: RuntimeWarning: invalid value encountered in true_divide\n",
      "  plt.plot(x, x*mean_pclass_1_prices/x, '-', label = 'Prices of first(1) class tickets', color = 'black')\n"
     ]
    },
    {
     "data": {
      "image/png": "[encoded data removed]",
      "text/plain": [
       "<Figure size 432x288 with 1 Axes>"
      ]
     },
     "metadata": {
      "needs_background": "light"
     },
     "output_type": "display_data"
    }
   ],
   "source": [
    "%matplotlib inline\n",
    "x = np.linspace(0, 1000, 1000)\n",
    "\n",
    "plt.title(\"Prices of first(1) class tickets\", loc = 'left')\n",
    "plt.xlabel(\"PassengerId\")\n",
    "plt.ylabel(\"Ticket price\")\n",
    "plt.plot(x, x*mean_pclass_1_prices/x, '-', label = 'Prices of first(1) class tickets', color = 'black')\n",
    "plt.plot(pclass_1_indexes, pclass_1_prices , '*')\n",
    "plt.legend()\n",
    "plt.show()"
   ]
  },
  {
   "cell_type": "code",
   "execution_count": 416,
   "metadata": {},
   "outputs": [
    {
     "data": {
      "text/plain": [
       "<AxesSubplot:ylabel='Frequency'>"
      ]
     },
     "execution_count": 416,
     "metadata": {},
     "output_type": "execute_result"
    },
    {
     "data": {
      "image/png": "[encoded data removed]",
      "text/plain": [
       "<Figure size 432x288 with 1 Axes>"
      ]
     },
     "metadata": {
      "needs_background": "light"
     },
     "output_type": "display_data"
    }
   ],
   "source": [
    "pclass_1_prices.value_counts().sort_index().plot(kind='hist')"
   ]
  },
  {
   "cell_type": "code",
   "execution_count": 417,
   "metadata": {},
   "outputs": [
    {
     "data": {
      "text/plain": [
       "<AxesSubplot:xlabel='Fare'>"
      ]
     },
     "execution_count": 417,
     "metadata": {},
     "output_type": "execute_result"
    },
    {
     "data": {
      "image/png": "[encoded data removed]",
      "text/plain": [
       "<Figure size 432x288 with 1 Axes>"
      ]
     },
     "metadata": {},
     "output_type": "display_data"
    }
   ],
   "source": [
    "sns.set_theme(style=\"white\")\n",
    "sns.violinplot(x = pclass_1_prices)"
   ]
  },
  {
   "cell_type": "code",
   "execution_count": 418,
   "metadata": {},
   "outputs": [
    {
     "data": {
      "text/plain": [
       "20.66"
      ]
     },
     "execution_count": 418,
     "metadata": {},
     "output_type": "execute_result"
    }
   ],
   "source": [
    "pclass_2_indexes = np.where(dataset['Pclass']==2)[0]\n",
    "pclass_2_prices = dataset['Fare'][pclass_2_indexes]\n",
    "mean_pclass_2_prices = np.round(np.mean(pclass_2_prices), 2)\n",
    "mean_pclass_2_prices"
   ]
  },
  {
   "cell_type": "code",
   "execution_count": 419,
   "metadata": {},
   "outputs": [
    {
     "name": "stderr",
     "output_type": "stream",
     "text": [
      "C:\\Users\\Yanal\\AppData\\Local\\Temp/ipykernel_20692/3915324338.py:7: RuntimeWarning: invalid value encountered in true_divide\n",
      "  plt.plot(x, x*mean_pclass_2_prices/x, '-', label = 'Prices of second(2) class tickets')\n"
     ]
    },
    {
     "data": {
      "image/png": "[encoded data removed]",
      "text/plain": [
       "<Figure size 432x288 with 1 Axes>"
      ]
     },
     "metadata": {
      "needs_background": "light"
     },
     "output_type": "display_data"
    }
   ],
   "source": [
    "%matplotlib inline\n",
    "x = np.linspace(0, 1000, 1000)\n",
    "\n",
    "plt.title(\"Prices of second(2) class tickets\", loc = 'left')\n",
    "plt.xlabel(\"PassengerId\")\n",
    "plt.ylabel(\"Ticket price\")\n",
    "plt.plot(x, x*mean_pclass_2_prices/x, '-', label = 'Prices of second(2) class tickets')\n",
    "plt.plot(pclass_2_indexes, pclass_2_prices , '*', color = 'r')\n",
    "plt.legend()\n",
    "plt.show()"
   ]
  },
  {
   "cell_type": "code",
   "execution_count": 420,
   "metadata": {},
   "outputs": [
    {
     "data": {
      "text/plain": [
       "<AxesSubplot:ylabel='Frequency'>"
      ]
     },
     "execution_count": 420,
     "metadata": {},
     "output_type": "execute_result"
    },
    {
     "data": {
      "image/png": "[encoded data removed]",
      "text/plain": [
       "<Figure size 432x288 with 1 Axes>"
      ]
     },
     "metadata": {
      "needs_background": "light"
     },
     "output_type": "display_data"
    }
   ],
   "source": [
    "pclass_2_prices.value_counts().sort_index().plot(kind='hist', color='r')"
   ]
  },
  {
   "cell_type": "code",
   "execution_count": 421,
   "metadata": {},
   "outputs": [
    {
     "data": {
      "text/plain": [
       "<AxesSubplot:xlabel='Fare'>"
      ]
     },
     "execution_count": 421,
     "metadata": {},
     "output_type": "execute_result"
    },
    {
     "data": {
      "image/png": "[encoded data removed]",
      "text/plain": [
       "<Figure size 432x288 with 1 Axes>"
      ]
     },
     "metadata": {},
     "output_type": "display_data"
    }
   ],
   "source": [
    "sns.set_theme(style=\"white\")\n",
    "sns.violinplot(x = pclass_2_prices, color='r')"
   ]
  },
  {
   "cell_type": "code",
   "execution_count": 422,
   "metadata": {},
   "outputs": [
    {
     "data": {
      "text/plain": [
       "13.68"
      ]
     },
     "execution_count": 422,
     "metadata": {},
     "output_type": "execute_result"
    }
   ],
   "source": [
    "pclass_3_indexes = np.where(dataset['Pclass']==3)[0]\n",
    "pclass_3_prices = dataset['Fare'][pclass_3_indexes]\n",
    "mean_pclass_3_prices = np.round(np.mean(pclass_3_prices), 2)\n",
    "mean_pclass_3_prices"
   ]
  },
  {
   "cell_type": "code",
   "execution_count": 423,
   "metadata": {},
   "outputs": [
    {
     "name": "stderr",
     "output_type": "stream",
     "text": [
      "C:\\Users\\Yanal\\AppData\\Local\\Temp/ipykernel_20692/935129263.py:7: RuntimeWarning: invalid value encountered in true_divide\n",
      "  plt.plot(x, x*mean_pclass_3_prices/x, '-', label = 'Prices of third(3) class tickets')\n"
     ]
    },
    {
     "data": {
      "image/png": "[encoded data removed]",
      "text/plain": [
       "<Figure size 432x288 with 1 Axes>"
      ]
     },
     "metadata": {
      "needs_background": "light"
     },
     "output_type": "display_data"
    }
   ],
   "source": [
    "%matplotlib inline\n",
    "x = np.linspace(0, 1000, 1000)\n",
    "\n",
    "plt.title(\"Prices of third(3) class tickets\", loc = 'left')\n",
    "plt.xlabel(\"PassengerId\")\n",
    "plt.ylabel(\"Ticket price\")\n",
    "plt.plot(x, x*mean_pclass_3_prices/x, '-', label = 'Prices of third(3) class tickets')\n",
    "plt.plot(pclass_3_indexes, pclass_3_prices , '*', color = 'g')\n",
    "plt.legend()\n",
    "plt.show()"
   ]
  },
  {
   "cell_type": "code",
   "execution_count": 424,
   "metadata": {},
   "outputs": [
    {
     "data": {
      "text/plain": [
       "<AxesSubplot:ylabel='Frequency'>"
      ]
     },
     "execution_count": 424,
     "metadata": {},
     "output_type": "execute_result"
    },
    {
     "data": {
      "image/png": "[encoded data removed]",
      "text/plain": [
       "<Figure size 432x288 with 1 Axes>"
      ]
     },
     "metadata": {
      "needs_background": "light"
     },
     "output_type": "display_data"
    }
   ],
   "source": [
    "pclass_3_prices.value_counts().sort_index().plot(kind='hist', color='g')"
   ]
  },
  {
   "cell_type": "code",
   "execution_count": 425,
   "metadata": {},
   "outputs": [
    {
     "data": {
      "text/plain": [
       "<AxesSubplot:xlabel='Fare'>"
      ]
     },
     "execution_count": 425,
     "metadata": {},
     "output_type": "execute_result"
    },
    {
     "data": {
      "image/png": "[encoded data removed]",
      "text/plain": [
       "<Figure size 432x288 with 1 Axes>"
      ]
     },
     "metadata": {},
     "output_type": "display_data"
    }
   ],
   "source": [
    "sns.set_theme(style=\"white\")\n",
    "sns.violinplot(x = pclass_3_prices, color='g')"
   ]
  },
  {
   "cell_type": "code",
   "execution_count": 426,
   "metadata": {},
   "outputs": [
    {
     "data": {
      "image/png": "[encoded data removed]",
      "text/plain": [
       "<Figure size 432x288 with 1 Axes>"
      ]
     },
     "metadata": {},
     "output_type": "display_data"
    }
   ],
   "source": [
    "x = np.arange(3)\n",
    "height = [mean_pclass_1_prices, mean_pclass_2_prices, mean_pclass_3_prices]\n",
    "\n",
    "plt.bar(x, height, align='center', color='c')\n",
    "\n",
    "plt.title('Mean price of each pclass')\n",
    "\n",
    "plt.ylabel('Mean price')\n",
    "plt.xlabel('Pclass')\n",
    "plt.xticks(x, ('1 class','2 class','3 class'))\n",
    "\n",
    "plt.show()"
   ]
  },
  {
   "cell_type": "code",
   "execution_count": 427,
   "metadata": {},
   "outputs": [
    {
     "data": {
      "image/png": "[encoded data removed]",
      "text/plain": [
       "<Figure size 432x288 with 1 Axes>"
      ]
     },
     "metadata": {},
     "output_type": "display_data"
    }
   ],
   "source": [
    "y = [mean_pclass_1_prices, mean_pclass_2_prices, mean_pclass_3_prices]\n",
    "mylabels = ['1 class','2 class','3 class']\n",
    "\n",
    "plt.pie(y, labels = mylabels)\n",
    "plt.show() "
   ]
  },
  {
   "cell_type": "markdown",
   "metadata": {},
   "source": [
    "**Conclusions**</br>\n",
    "To make sure if there is a correlation between pclass and ticket priсe, we calculate the mean of each class of prices(1 - 2 - 2), we get the mean price of `1` class = `84.15`, the mean price of `2` class = `20.66` and the mean price of `3` class = `13.68`, we can note that the `1` class has the max mean price, then the `2` class, then the `3` class . That proves us that there is a correlation between pclass and ticket priсe, where, `1` class passengers, paid more then almost all others passengers, `2` class passengers paid less then `1` class passengers, while `3` class passengers paid lowest cost.\n",
    "\n",
    "About half of the passengers bought `3` class tickets(`<=30`)\n",
    "`2` class passengers bought tickets at a cost of about `<= 30` \n",
    "`1` class passengers bought tickets at a cost of about `<= 170` "
   ]
  },
  {
   "cell_type": "markdown",
   "metadata": {},
   "source": [
    "---"
   ]
  },
  {
   "cell_type": "markdown",
   "metadata": {},
   "source": [
    "<img src='https://media.makeameme.org/created/homework-is-coming.jpg'></img>\n",
    "\n"
   ]
  }
 ],
 "metadata": {
  "kernelspec": {
   "display_name": "Python 3 (ipykernel)",
   "language": "python",
   "name": "python3"
  },
  "language_info": {
   "codemirror_mode": {
    "name": "ipython",
    "version": 3
   },
   "file_extension": ".py",
   "mimetype": "text/x-python",
   "name": "python",
   "nbconvert_exporter": "python",
   "pygments_lexer": "ipython3",
   "version": "3.8.5"
  }
 },
 "nbformat": 4,
 "nbformat_minor": 4
}
